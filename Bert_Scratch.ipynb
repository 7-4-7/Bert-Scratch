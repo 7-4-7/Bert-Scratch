{
  "nbformat": 4,
  "nbformat_minor": 0,
  "metadata": {
    "colab": {
      "provenance": [],
      "authorship_tag": "ABX9TyOYTg+l4hYej2Q6dMOvP+F4",
      "include_colab_link": true
    },
    "kernelspec": {
      "name": "python3",
      "display_name": "Python 3"
    },
    "language_info": {
      "name": "python"
    }
  },
  "cells": [
    {
      "cell_type": "markdown",
      "metadata": {
        "id": "view-in-github",
        "colab_type": "text"
      },
      "source": [
        "<a href=\"https://colab.research.google.com/github/7-4-7/Bert-Scratch/blob/main/Bert_Scratch.ipynb\" target=\"_parent\"><img src=\"https://colab.research.google.com/assets/colab-badge.svg\" alt=\"Open In Colab\"/></a>"
      ]
    },
    {
      "cell_type": "markdown",
      "source": [
        "# Phase - 1\n",
        "\n",
        "- Train bert to predict masked entities from a text"
      ],
      "metadata": {
        "id": "IhJpdd9c-Xzg"
      }
    },
    {
      "cell_type": "code",
      "execution_count": 2,
      "metadata": {
        "id": "T4iyR_ZOUfvA",
        "colab": {
          "base_uri": "https://localhost:8080/"
        },
        "outputId": "e8e9e222-f90d-4b3f-c5e9-e18bcd97fb5b"
      },
      "outputs": [
        {
          "output_type": "stream",
          "name": "stderr",
          "text": [
            "/usr/local/lib/python3.11/dist-packages/huggingface_hub/utils/_auth.py:94: UserWarning: \n",
            "The secret `HF_TOKEN` does not exist in your Colab secrets.\n",
            "To authenticate with the Hugging Face Hub, create a token in your settings tab (https://huggingface.co/settings/tokens), set it as secret in your Google Colab and restart your session.\n",
            "You will be able to reuse this secret in all of your notebooks.\n",
            "Please note that authentication is recommended but still optional to access public models or datasets.\n",
            "  warnings.warn(\n"
          ]
        }
      ],
      "source": [
        "import pandas as pd\n",
        "\n",
        "splits = {'train': 'data/train.parquet', 'test': 'data/eval.parquet'}\n",
        "df = pd.read_parquet(\"hf://datasets/Gustavosta/Stable-Diffusion-Prompts/\" + splits[\"train\"])"
      ]
    },
    {
      "cell_type": "code",
      "source": [
        "df"
      ],
      "metadata": {
        "colab": {
          "base_uri": "https://localhost:8080/",
          "height": 423
        },
        "id": "CNbu_Dsf9tRg",
        "outputId": "3d022d83-c291-4369-8756-77924c80c0b8"
      },
      "execution_count": 3,
      "outputs": [
        {
          "output_type": "execute_result",
          "data": {
            "text/plain": [
              "                                                  Prompt\n",
              "0      realistic car 3 d render sci - fi car and sci ...\n",
              "1      a comic potrait of a female necromamcer with b...\n",
              "2      steampunk market interior, colorful, 3 d scene...\n",
              "3      “A portrait of a cyborg in a golden suit, D&D ...\n",
              "4      A full portrait of a beautiful post apocalypti...\n",
              "...                                                  ...\n",
              "73713  ismail inceoglu epic oil on canvas painting of...\n",
              "73714  eating crayons and being reborn in the loving ...\n",
              "73715  ilya kuvshinov with long hair, sky blue hair, ...\n",
              "73716  cyberpunk woman with green hair wearing futuri...\n",
              "73717  zulu cyborg, male, green eyes, red diodes, sci...\n",
              "\n",
              "[73718 rows x 1 columns]"
            ],
            "text/html": [
              "\n",
              "  <div id=\"df-185ed5c1-391c-4997-9c06-7cff876d4908\" class=\"colab-df-container\">\n",
              "    <div>\n",
              "<style scoped>\n",
              "    .dataframe tbody tr th:only-of-type {\n",
              "        vertical-align: middle;\n",
              "    }\n",
              "\n",
              "    .dataframe tbody tr th {\n",
              "        vertical-align: top;\n",
              "    }\n",
              "\n",
              "    .dataframe thead th {\n",
              "        text-align: right;\n",
              "    }\n",
              "</style>\n",
              "<table border=\"1\" class=\"dataframe\">\n",
              "  <thead>\n",
              "    <tr style=\"text-align: right;\">\n",
              "      <th></th>\n",
              "      <th>Prompt</th>\n",
              "    </tr>\n",
              "  </thead>\n",
              "  <tbody>\n",
              "    <tr>\n",
              "      <th>0</th>\n",
              "      <td>realistic car 3 d render sci - fi car and sci ...</td>\n",
              "    </tr>\n",
              "    <tr>\n",
              "      <th>1</th>\n",
              "      <td>a comic potrait of a female necromamcer with b...</td>\n",
              "    </tr>\n",
              "    <tr>\n",
              "      <th>2</th>\n",
              "      <td>steampunk market interior, colorful, 3 d scene...</td>\n",
              "    </tr>\n",
              "    <tr>\n",
              "      <th>3</th>\n",
              "      <td>“A portrait of a cyborg in a golden suit, D&amp;D ...</td>\n",
              "    </tr>\n",
              "    <tr>\n",
              "      <th>4</th>\n",
              "      <td>A full portrait of a beautiful post apocalypti...</td>\n",
              "    </tr>\n",
              "    <tr>\n",
              "      <th>...</th>\n",
              "      <td>...</td>\n",
              "    </tr>\n",
              "    <tr>\n",
              "      <th>73713</th>\n",
              "      <td>ismail inceoglu epic oil on canvas painting of...</td>\n",
              "    </tr>\n",
              "    <tr>\n",
              "      <th>73714</th>\n",
              "      <td>eating crayons and being reborn in the loving ...</td>\n",
              "    </tr>\n",
              "    <tr>\n",
              "      <th>73715</th>\n",
              "      <td>ilya kuvshinov with long hair, sky blue hair, ...</td>\n",
              "    </tr>\n",
              "    <tr>\n",
              "      <th>73716</th>\n",
              "      <td>cyberpunk woman with green hair wearing futuri...</td>\n",
              "    </tr>\n",
              "    <tr>\n",
              "      <th>73717</th>\n",
              "      <td>zulu cyborg, male, green eyes, red diodes, sci...</td>\n",
              "    </tr>\n",
              "  </tbody>\n",
              "</table>\n",
              "<p>73718 rows × 1 columns</p>\n",
              "</div>\n",
              "    <div class=\"colab-df-buttons\">\n",
              "\n",
              "  <div class=\"colab-df-container\">\n",
              "    <button class=\"colab-df-convert\" onclick=\"convertToInteractive('df-185ed5c1-391c-4997-9c06-7cff876d4908')\"\n",
              "            title=\"Convert this dataframe to an interactive table.\"\n",
              "            style=\"display:none;\">\n",
              "\n",
              "  <svg xmlns=\"http://www.w3.org/2000/svg\" height=\"24px\" viewBox=\"0 -960 960 960\">\n",
              "    <path d=\"M120-120v-720h720v720H120Zm60-500h600v-160H180v160Zm220 220h160v-160H400v160Zm0 220h160v-160H400v160ZM180-400h160v-160H180v160Zm440 0h160v-160H620v160ZM180-180h160v-160H180v160Zm440 0h160v-160H620v160Z\"/>\n",
              "  </svg>\n",
              "    </button>\n",
              "\n",
              "  <style>\n",
              "    .colab-df-container {\n",
              "      display:flex;\n",
              "      gap: 12px;\n",
              "    }\n",
              "\n",
              "    .colab-df-convert {\n",
              "      background-color: #E8F0FE;\n",
              "      border: none;\n",
              "      border-radius: 50%;\n",
              "      cursor: pointer;\n",
              "      display: none;\n",
              "      fill: #1967D2;\n",
              "      height: 32px;\n",
              "      padding: 0 0 0 0;\n",
              "      width: 32px;\n",
              "    }\n",
              "\n",
              "    .colab-df-convert:hover {\n",
              "      background-color: #E2EBFA;\n",
              "      box-shadow: 0px 1px 2px rgba(60, 64, 67, 0.3), 0px 1px 3px 1px rgba(60, 64, 67, 0.15);\n",
              "      fill: #174EA6;\n",
              "    }\n",
              "\n",
              "    .colab-df-buttons div {\n",
              "      margin-bottom: 4px;\n",
              "    }\n",
              "\n",
              "    [theme=dark] .colab-df-convert {\n",
              "      background-color: #3B4455;\n",
              "      fill: #D2E3FC;\n",
              "    }\n",
              "\n",
              "    [theme=dark] .colab-df-convert:hover {\n",
              "      background-color: #434B5C;\n",
              "      box-shadow: 0px 1px 3px 1px rgba(0, 0, 0, 0.15);\n",
              "      filter: drop-shadow(0px 1px 2px rgba(0, 0, 0, 0.3));\n",
              "      fill: #FFFFFF;\n",
              "    }\n",
              "  </style>\n",
              "\n",
              "    <script>\n",
              "      const buttonEl =\n",
              "        document.querySelector('#df-185ed5c1-391c-4997-9c06-7cff876d4908 button.colab-df-convert');\n",
              "      buttonEl.style.display =\n",
              "        google.colab.kernel.accessAllowed ? 'block' : 'none';\n",
              "\n",
              "      async function convertToInteractive(key) {\n",
              "        const element = document.querySelector('#df-185ed5c1-391c-4997-9c06-7cff876d4908');\n",
              "        const dataTable =\n",
              "          await google.colab.kernel.invokeFunction('convertToInteractive',\n",
              "                                                    [key], {});\n",
              "        if (!dataTable) return;\n",
              "\n",
              "        const docLinkHtml = 'Like what you see? Visit the ' +\n",
              "          '<a target=\"_blank\" href=https://colab.research.google.com/notebooks/data_table.ipynb>data table notebook</a>'\n",
              "          + ' to learn more about interactive tables.';\n",
              "        element.innerHTML = '';\n",
              "        dataTable['output_type'] = 'display_data';\n",
              "        await google.colab.output.renderOutput(dataTable, element);\n",
              "        const docLink = document.createElement('div');\n",
              "        docLink.innerHTML = docLinkHtml;\n",
              "        element.appendChild(docLink);\n",
              "      }\n",
              "    </script>\n",
              "  </div>\n",
              "\n",
              "\n",
              "    <div id=\"df-8a0d4ef4-d7ee-46db-9d97-01dcef13fef8\">\n",
              "      <button class=\"colab-df-quickchart\" onclick=\"quickchart('df-8a0d4ef4-d7ee-46db-9d97-01dcef13fef8')\"\n",
              "                title=\"Suggest charts\"\n",
              "                style=\"display:none;\">\n",
              "\n",
              "<svg xmlns=\"http://www.w3.org/2000/svg\" height=\"24px\"viewBox=\"0 0 24 24\"\n",
              "     width=\"24px\">\n",
              "    <g>\n",
              "        <path d=\"M19 3H5c-1.1 0-2 .9-2 2v14c0 1.1.9 2 2 2h14c1.1 0 2-.9 2-2V5c0-1.1-.9-2-2-2zM9 17H7v-7h2v7zm4 0h-2V7h2v10zm4 0h-2v-4h2v4z\"/>\n",
              "    </g>\n",
              "</svg>\n",
              "      </button>\n",
              "\n",
              "<style>\n",
              "  .colab-df-quickchart {\n",
              "      --bg-color: #E8F0FE;\n",
              "      --fill-color: #1967D2;\n",
              "      --hover-bg-color: #E2EBFA;\n",
              "      --hover-fill-color: #174EA6;\n",
              "      --disabled-fill-color: #AAA;\n",
              "      --disabled-bg-color: #DDD;\n",
              "  }\n",
              "\n",
              "  [theme=dark] .colab-df-quickchart {\n",
              "      --bg-color: #3B4455;\n",
              "      --fill-color: #D2E3FC;\n",
              "      --hover-bg-color: #434B5C;\n",
              "      --hover-fill-color: #FFFFFF;\n",
              "      --disabled-bg-color: #3B4455;\n",
              "      --disabled-fill-color: #666;\n",
              "  }\n",
              "\n",
              "  .colab-df-quickchart {\n",
              "    background-color: var(--bg-color);\n",
              "    border: none;\n",
              "    border-radius: 50%;\n",
              "    cursor: pointer;\n",
              "    display: none;\n",
              "    fill: var(--fill-color);\n",
              "    height: 32px;\n",
              "    padding: 0;\n",
              "    width: 32px;\n",
              "  }\n",
              "\n",
              "  .colab-df-quickchart:hover {\n",
              "    background-color: var(--hover-bg-color);\n",
              "    box-shadow: 0 1px 2px rgba(60, 64, 67, 0.3), 0 1px 3px 1px rgba(60, 64, 67, 0.15);\n",
              "    fill: var(--button-hover-fill-color);\n",
              "  }\n",
              "\n",
              "  .colab-df-quickchart-complete:disabled,\n",
              "  .colab-df-quickchart-complete:disabled:hover {\n",
              "    background-color: var(--disabled-bg-color);\n",
              "    fill: var(--disabled-fill-color);\n",
              "    box-shadow: none;\n",
              "  }\n",
              "\n",
              "  .colab-df-spinner {\n",
              "    border: 2px solid var(--fill-color);\n",
              "    border-color: transparent;\n",
              "    border-bottom-color: var(--fill-color);\n",
              "    animation:\n",
              "      spin 1s steps(1) infinite;\n",
              "  }\n",
              "\n",
              "  @keyframes spin {\n",
              "    0% {\n",
              "      border-color: transparent;\n",
              "      border-bottom-color: var(--fill-color);\n",
              "      border-left-color: var(--fill-color);\n",
              "    }\n",
              "    20% {\n",
              "      border-color: transparent;\n",
              "      border-left-color: var(--fill-color);\n",
              "      border-top-color: var(--fill-color);\n",
              "    }\n",
              "    30% {\n",
              "      border-color: transparent;\n",
              "      border-left-color: var(--fill-color);\n",
              "      border-top-color: var(--fill-color);\n",
              "      border-right-color: var(--fill-color);\n",
              "    }\n",
              "    40% {\n",
              "      border-color: transparent;\n",
              "      border-right-color: var(--fill-color);\n",
              "      border-top-color: var(--fill-color);\n",
              "    }\n",
              "    60% {\n",
              "      border-color: transparent;\n",
              "      border-right-color: var(--fill-color);\n",
              "    }\n",
              "    80% {\n",
              "      border-color: transparent;\n",
              "      border-right-color: var(--fill-color);\n",
              "      border-bottom-color: var(--fill-color);\n",
              "    }\n",
              "    90% {\n",
              "      border-color: transparent;\n",
              "      border-bottom-color: var(--fill-color);\n",
              "    }\n",
              "  }\n",
              "</style>\n",
              "\n",
              "      <script>\n",
              "        async function quickchart(key) {\n",
              "          const quickchartButtonEl =\n",
              "            document.querySelector('#' + key + ' button');\n",
              "          quickchartButtonEl.disabled = true;  // To prevent multiple clicks.\n",
              "          quickchartButtonEl.classList.add('colab-df-spinner');\n",
              "          try {\n",
              "            const charts = await google.colab.kernel.invokeFunction(\n",
              "                'suggestCharts', [key], {});\n",
              "          } catch (error) {\n",
              "            console.error('Error during call to suggestCharts:', error);\n",
              "          }\n",
              "          quickchartButtonEl.classList.remove('colab-df-spinner');\n",
              "          quickchartButtonEl.classList.add('colab-df-quickchart-complete');\n",
              "        }\n",
              "        (() => {\n",
              "          let quickchartButtonEl =\n",
              "            document.querySelector('#df-8a0d4ef4-d7ee-46db-9d97-01dcef13fef8 button');\n",
              "          quickchartButtonEl.style.display =\n",
              "            google.colab.kernel.accessAllowed ? 'block' : 'none';\n",
              "        })();\n",
              "      </script>\n",
              "    </div>\n",
              "\n",
              "  <div id=\"id_76cbc41d-8ac6-4a16-9908-2625ca5e910d\">\n",
              "    <style>\n",
              "      .colab-df-generate {\n",
              "        background-color: #E8F0FE;\n",
              "        border: none;\n",
              "        border-radius: 50%;\n",
              "        cursor: pointer;\n",
              "        display: none;\n",
              "        fill: #1967D2;\n",
              "        height: 32px;\n",
              "        padding: 0 0 0 0;\n",
              "        width: 32px;\n",
              "      }\n",
              "\n",
              "      .colab-df-generate:hover {\n",
              "        background-color: #E2EBFA;\n",
              "        box-shadow: 0px 1px 2px rgba(60, 64, 67, 0.3), 0px 1px 3px 1px rgba(60, 64, 67, 0.15);\n",
              "        fill: #174EA6;\n",
              "      }\n",
              "\n",
              "      [theme=dark] .colab-df-generate {\n",
              "        background-color: #3B4455;\n",
              "        fill: #D2E3FC;\n",
              "      }\n",
              "\n",
              "      [theme=dark] .colab-df-generate:hover {\n",
              "        background-color: #434B5C;\n",
              "        box-shadow: 0px 1px 3px 1px rgba(0, 0, 0, 0.15);\n",
              "        filter: drop-shadow(0px 1px 2px rgba(0, 0, 0, 0.3));\n",
              "        fill: #FFFFFF;\n",
              "      }\n",
              "    </style>\n",
              "    <button class=\"colab-df-generate\" onclick=\"generateWithVariable('df')\"\n",
              "            title=\"Generate code using this dataframe.\"\n",
              "            style=\"display:none;\">\n",
              "\n",
              "  <svg xmlns=\"http://www.w3.org/2000/svg\" height=\"24px\"viewBox=\"0 0 24 24\"\n",
              "       width=\"24px\">\n",
              "    <path d=\"M7,19H8.4L18.45,9,17,7.55,7,17.6ZM5,21V16.75L18.45,3.32a2,2,0,0,1,2.83,0l1.4,1.43a1.91,1.91,0,0,1,.58,1.4,1.91,1.91,0,0,1-.58,1.4L9.25,21ZM18.45,9,17,7.55Zm-12,3A5.31,5.31,0,0,0,4.9,8.1,5.31,5.31,0,0,0,1,6.5,5.31,5.31,0,0,0,4.9,4.9,5.31,5.31,0,0,0,6.5,1,5.31,5.31,0,0,0,8.1,4.9,5.31,5.31,0,0,0,12,6.5,5.46,5.46,0,0,0,6.5,12Z\"/>\n",
              "  </svg>\n",
              "    </button>\n",
              "    <script>\n",
              "      (() => {\n",
              "      const buttonEl =\n",
              "        document.querySelector('#id_76cbc41d-8ac6-4a16-9908-2625ca5e910d button.colab-df-generate');\n",
              "      buttonEl.style.display =\n",
              "        google.colab.kernel.accessAllowed ? 'block' : 'none';\n",
              "\n",
              "      buttonEl.onclick = () => {\n",
              "        google.colab.notebook.generateWithVariable('df');\n",
              "      }\n",
              "      })();\n",
              "    </script>\n",
              "  </div>\n",
              "\n",
              "    </div>\n",
              "  </div>\n"
            ],
            "application/vnd.google.colaboratory.intrinsic+json": {
              "type": "dataframe",
              "variable_name": "df",
              "summary": "{\n  \"name\": \"df\",\n  \"rows\": 73718,\n  \"fields\": [\n    {\n      \"column\": \"Prompt\",\n      \"properties\": {\n        \"dtype\": \"string\",\n        \"num_unique_values\": 61754,\n        \"samples\": [\n          \"Dieselpunk Volgograd,  The Motherland Calls with pipes and engines, steam, epic composition, intricate, elegant, volumetric lighting, digital painting, highly detailed, artstation, sharp focus, illustration, concept art, ruan jia, steve mccurry\",\n          \"portrait of palpatine from star wars, detailed face coherent face highly detailed digital painting artstation concept art smooth sharp focus illustration art by artgerm and greg rutkowski and alphonse mucha\",\n          \"the high priestess misteriously sitting in the chapel. yin and yang inside an castle. intricate, elegant, highly detailed, digital painting, artstation, concept art, sharp focus, illustration, by justin gerard and artgerm, 8 k\"\n        ],\n        \"semantic_type\": \"\",\n        \"description\": \"\"\n      }\n    }\n  ]\n}"
            }
          },
          "metadata": {},
          "execution_count": 3
        }
      ]
    },
    {
      "cell_type": "markdown",
      "source": [
        "## Importing Key Libraries"
      ],
      "metadata": {
        "id": "RfiEB7SA-rLz"
      }
    },
    {
      "cell_type": "code",
      "source": [
        "import torch\n",
        "from torch.utils.data import Dataset, DataLoader, random_split\n",
        "\n",
        "from transformers import BertTokenizer # Tokenizer\n",
        "\n",
        "\n",
        "import numpy as np\n",
        "import pandas as pd\n",
        "\n",
        "torch.__version__"
      ],
      "metadata": {
        "colab": {
          "base_uri": "https://localhost:8080/",
          "height": 36
        },
        "id": "kvRyJG1y9xQx",
        "outputId": "55661057-71a3-41e0-cd9b-8f64f5910bbf"
      },
      "execution_count": 49,
      "outputs": [
        {
          "output_type": "execute_result",
          "data": {
            "text/plain": [
              "'2.6.0+cu124'"
            ],
            "application/vnd.google.colaboratory.intrinsic+json": {
              "type": "string"
            }
          },
          "metadata": {},
          "execution_count": 49
        }
      ]
    },
    {
      "cell_type": "code",
      "source": [
        "splits = {'train': 'data/train.parquet', 'test': 'data/eval.parquet'}\n",
        "\n",
        "df_train = pd.read_parquet(\"hf://datasets/Gustavosta/Stable-Diffusion-Prompts/\" + splits[\"train\"])\n",
        "df_test = pd.read_parquet(\"hf://datasets/Gustavosta/Stable-Diffusion-Prompts/\" + splits[\"test\"])"
      ],
      "metadata": {
        "id": "4HxwzJKX-vOW"
      },
      "execution_count": 5,
      "outputs": []
    },
    {
      "cell_type": "code",
      "source": [
        "len(df_train),len(df_test)"
      ],
      "metadata": {
        "colab": {
          "base_uri": "https://localhost:8080/"
        },
        "id": "SQtrBp5c-vLl",
        "outputId": "8c8f33a4-ee8f-4b59-f7b2-aacf334cd63b"
      },
      "execution_count": 6,
      "outputs": [
        {
          "output_type": "execute_result",
          "data": {
            "text/plain": [
              "(73718, 8192)"
            ]
          },
          "metadata": {},
          "execution_count": 6
        }
      ]
    },
    {
      "cell_type": "code",
      "source": [
        "text = df_train['Prompt'][0]"
      ],
      "metadata": {
        "id": "B5hc9PBvEC1c"
      },
      "execution_count": 8,
      "outputs": []
    },
    {
      "cell_type": "code",
      "source": [
        "df_train['Prompt'].apply(len)"
      ],
      "metadata": {
        "colab": {
          "base_uri": "https://localhost:8080/",
          "height": 458
        },
        "id": "FI1eZ5feDwDn",
        "outputId": "b176c71b-c95c-4edf-d8b2-96566b6741b8"
      },
      "execution_count": null,
      "outputs": [
        {
          "output_type": "execute_result",
          "data": {
            "text/plain": [
              "0        431\n",
              "1        336\n",
              "2        182\n",
              "3        109\n",
              "4        244\n",
              "        ... \n",
              "73713    397\n",
              "73714    258\n",
              "73715    251\n",
              "73716    198\n",
              "73717    236\n",
              "Name: Prompt, Length: 73718, dtype: int64"
            ],
            "text/html": [
              "<div>\n",
              "<style scoped>\n",
              "    .dataframe tbody tr th:only-of-type {\n",
              "        vertical-align: middle;\n",
              "    }\n",
              "\n",
              "    .dataframe tbody tr th {\n",
              "        vertical-align: top;\n",
              "    }\n",
              "\n",
              "    .dataframe thead th {\n",
              "        text-align: right;\n",
              "    }\n",
              "</style>\n",
              "<table border=\"1\" class=\"dataframe\">\n",
              "  <thead>\n",
              "    <tr style=\"text-align: right;\">\n",
              "      <th></th>\n",
              "      <th>Prompt</th>\n",
              "    </tr>\n",
              "  </thead>\n",
              "  <tbody>\n",
              "    <tr>\n",
              "      <th>0</th>\n",
              "      <td>431</td>\n",
              "    </tr>\n",
              "    <tr>\n",
              "      <th>1</th>\n",
              "      <td>336</td>\n",
              "    </tr>\n",
              "    <tr>\n",
              "      <th>2</th>\n",
              "      <td>182</td>\n",
              "    </tr>\n",
              "    <tr>\n",
              "      <th>3</th>\n",
              "      <td>109</td>\n",
              "    </tr>\n",
              "    <tr>\n",
              "      <th>4</th>\n",
              "      <td>244</td>\n",
              "    </tr>\n",
              "    <tr>\n",
              "      <th>...</th>\n",
              "      <td>...</td>\n",
              "    </tr>\n",
              "    <tr>\n",
              "      <th>73713</th>\n",
              "      <td>397</td>\n",
              "    </tr>\n",
              "    <tr>\n",
              "      <th>73714</th>\n",
              "      <td>258</td>\n",
              "    </tr>\n",
              "    <tr>\n",
              "      <th>73715</th>\n",
              "      <td>251</td>\n",
              "    </tr>\n",
              "    <tr>\n",
              "      <th>73716</th>\n",
              "      <td>198</td>\n",
              "    </tr>\n",
              "    <tr>\n",
              "      <th>73717</th>\n",
              "      <td>236</td>\n",
              "    </tr>\n",
              "  </tbody>\n",
              "</table>\n",
              "<p>73718 rows × 1 columns</p>\n",
              "</div><br><label><b>dtype:</b> int64</label>"
            ]
          },
          "metadata": {},
          "execution_count": 25
        }
      ]
    },
    {
      "cell_type": "markdown",
      "source": [
        "## Setting up custom dataset class"
      ],
      "metadata": {
        "id": "SqZdkbow_iZ1"
      }
    },
    {
      "cell_type": "code",
      "source": [
        "prompts = df['Prompt'].to_list()[:20_000]\n",
        "len(prompts)"
      ],
      "metadata": {
        "colab": {
          "base_uri": "https://localhost:8080/"
        },
        "id": "gTiPqCpqT6Ff",
        "outputId": "e201dd77-ac5c-43c1-db32-eebcb044ba7b"
      },
      "execution_count": 20,
      "outputs": [
        {
          "output_type": "execute_result",
          "data": {
            "text/plain": [
              "20000"
            ]
          },
          "metadata": {},
          "execution_count": 20
        }
      ]
    },
    {
      "cell_type": "code",
      "source": [
        "prompts[6]"
      ],
      "metadata": {
        "colab": {
          "base_uri": "https://localhost:8080/",
          "height": 53
        },
        "id": "6NNn1G02ULOU",
        "outputId": "1a4d2698-bb48-42c5-f943-e35e47da0655"
      },
      "execution_count": 24,
      "outputs": [
        {
          "output_type": "execute_result",
          "data": {
            "text/plain": [
              "'ilya kuvshinov with long sky blue hair, gold eyes, professional digital painting, concept art, unreal engine 5, 8 k, cinematic, wlop, bubbles, tendrils in the background, art by greg rutkowski, pixiv art, junji ito, yoshitaka amano'"
            ],
            "application/vnd.google.colaboratory.intrinsic+json": {
              "type": "string"
            }
          },
          "metadata": {},
          "execution_count": 24
        }
      ]
    },
    {
      "cell_type": "code",
      "source": [
        "class MLMPrompts(Dataset):\n",
        "  \"\"\" Custom dataset class that prepares the data for training\"\"\"\n",
        "\n",
        "  def __init__(self, df, seq_len, stop_idx : int = 20_000):\n",
        "    \"\"\"Given a list of prompts, generate input, target pair\"\"\"\n",
        "\n",
        "    self.prompts = df['Prompt'].to_list()[:stop_idx]\n",
        "    self.tokenizer = BertTokenizer.from_pretrained(\"bert-base-uncased\")\n",
        "    self.seq_len = seq_len\n",
        "    self.tokenized_prompts = self._get_data()\n",
        "\n",
        "  def _get_data(self):\n",
        "    \"\"\" Return input-target list of list || [ [[],[]], [[],[]] ... ]\"\"\"\n",
        "\n",
        "    pairs = []\n",
        "    # Loop over all the prompts\n",
        "    for prompt in self.prompts:\n",
        "\n",
        "      # For each prompt get it's tokenized version\n",
        "      encoded = self.tokenizer(prompt,\n",
        "                               padding = \"max_length\",\n",
        "                               truncation = True,\n",
        "                               max_length = self.seq_len,\n",
        "                               return_tensors = 'pt')\n",
        "\n",
        "      # Convert them to token ids and add special tokens[By default]\n",
        "      token_ids = encoded.input_ids\n",
        "\n",
        "      # Apply Mask\n",
        "      masked_ids, target_ids = self._apply_mask(token_ids)\n",
        "\n",
        "      # Store masked data and correct outputs\n",
        "      temp_dict = {\n",
        "          'masked_ids':masked_ids,\n",
        "          'target_ids' : target_ids,\n",
        "          'attn_mask'  : encoded.attention_mask,\n",
        "      }\n",
        "\n",
        "      pairs.append(temp_dict)\n",
        "    return pairs\n",
        "\n",
        "  def _apply_mask(self, token_ids):\n",
        "    \"\"\" Perform masking based on 15% and additional 80/10/10 rule on token_ids and return masked token along with it's original content \"\"\"\n",
        "\n",
        "    labels = token_ids.clone()\n",
        "\n",
        "    # Each token has 15% chance of being masked\n",
        "    p_matrix = torch.full(labels.shape, 0.15) # 15% masking\n",
        "\n",
        "    # Avoid masking special tokens\n",
        "    special_token_mask = [\n",
        "        self.tokenizer.get_special_tokens_mask([token_id.item()], already_has_special_tokens = True)[0] for token_id in labels[0]\n",
        "    ] # list\n",
        "\n",
        "    # Update the p_matrix : Update the probabilities of above special tokens\n",
        "    p_matrix.masked_fill_(torch.tensor(special_token_mask, dtype = torch.bool), value = 0.0)\n",
        "\n",
        "    # Get masked indices\n",
        "    masked_indices = torch.bernoulli(p_matrix).bool()\n",
        "\n",
        "    # Update labels : Only contain masked tokens\n",
        "    labels[~masked_indices] = -100\n",
        "\n",
        "    # 80% of tokens marked to be mask -> [MASK]\n",
        "    indices_replaced = torch.bernoulli(torch.full(labels.shape, 0.8)).bool() & masked_indices\n",
        "    token_ids[indices_replaced] = self.tokenizer.convert_tokens_to_ids(self.tokenizer.mask_token)\n",
        "\n",
        "    # 10% of masked token with random words\n",
        "    indices_random = torch.bernoulli(torch.full(labels.shape,0.5)).bool() & masked_indices & ~indices_replaced\n",
        "    random_words = torch.randint(len(self.tokenizer), labels.shape, dtype = torch.long)\n",
        "    token_ids[indices_random] = random_words[indices_random]\n",
        "\n",
        "    return token_ids, labels\n",
        "\n",
        "  def __len__(self):\n",
        "    return len(self.tokenized_prompts)\n",
        "\n",
        "  def __getitem__(self, idx):\n",
        "    return self.tokenized_prompts[idx]"
      ],
      "metadata": {
        "id": "qx0g2ZkZHqdr"
      },
      "execution_count": 43,
      "outputs": []
    },
    {
      "cell_type": "code",
      "source": [
        "import torch\n",
        "from torch.utils.data import Dataset\n",
        "from transformers import BertTokenizer\n",
        "\n",
        "class MLMPrompts(Dataset):\n",
        "    \"\"\"Custom dataset class that prepares the data for MLM training\"\"\"\n",
        "\n",
        "    def __init__(self, df, seq_len, stop_idx: int = 20_000):\n",
        "        \"\"\"\n",
        "        Args:\n",
        "            df: Pandas DataFrame with column 'Prompt'\n",
        "            seq_len: Max sequence length\n",
        "            stop_idx: Limit dataset size\n",
        "        \"\"\"\n",
        "        self.prompts = df['Prompt'].to_list()[:stop_idx]\n",
        "        self.tokenizer = BertTokenizer.from_pretrained(\"bert-base-uncased\")\n",
        "        self.seq_len = seq_len\n",
        "        self.tokenized_prompts = self._get_data()\n",
        "\n",
        "    def _get_data(self):\n",
        "        \"\"\"Return list of dicts: {masked_ids, target_ids, attn_mask}\"\"\"\n",
        "\n",
        "        pairs = []\n",
        "        for prompt in self.prompts:\n",
        "\n",
        "            # Tokenize\n",
        "            encoded = self.tokenizer(\n",
        "                prompt,\n",
        "                padding=\"max_length\",\n",
        "                truncation=True,\n",
        "                max_length=self.seq_len,\n",
        "                return_tensors='pt'\n",
        "            )\n",
        "\n",
        "            # Remove batch dimension from tokenizer output\n",
        "            token_ids = encoded.input_ids[0]         # shape: (seq_len,)\n",
        "            attn_mask = encoded.attention_mask[0]    # shape: (seq_len,)\n",
        "\n",
        "            # Apply Masking\n",
        "            masked_ids, target_ids = self._apply_mask(token_ids)\n",
        "\n",
        "            pairs.append({\n",
        "                'masked_ids': masked_ids,\n",
        "                'target_ids': target_ids,\n",
        "                'attn_mask': attn_mask\n",
        "            })\n",
        "\n",
        "        return pairs\n",
        "\n",
        "    def _apply_mask(self, token_ids):\n",
        "        \"\"\"\n",
        "        Apply BERT-style 15% masking with 80/10/10 rule\n",
        "        token_ids: Tensor of shape (seq_len,)\n",
        "        Returns:\n",
        "            masked_ids: Tensor (seq_len,) with some tokens replaced/masked\n",
        "            target_ids: Tensor (seq_len,) with original tokens at masked positions, else -100\n",
        "        \"\"\"\n",
        "\n",
        "        labels = token_ids.clone()\n",
        "\n",
        "        # 15% probability for masking\n",
        "        p_matrix = torch.full(labels.shape, 0.15)\n",
        "\n",
        "        # Avoid masking special tokens ([CLS], [SEP], [PAD])\n",
        "        special_token_mask = torch.tensor(\n",
        "            self.tokenizer.get_special_tokens_mask(\n",
        "                token_ids.tolist(),\n",
        "                already_has_special_tokens=True\n",
        "            ),\n",
        "            dtype=torch.bool\n",
        "        )\n",
        "        p_matrix.masked_fill_(special_token_mask, value=0.0)\n",
        "\n",
        "        # Select positions to mask\n",
        "        masked_indices = torch.bernoulli(p_matrix).bool()\n",
        "        labels[~masked_indices] = -100  # -100 ignored by loss\n",
        "\n",
        "        # 80% of masked → [MASK] token\n",
        "        indices_replaced = torch.bernoulli(torch.full(labels.shape, 0.8)).bool() & masked_indices\n",
        "        token_ids[indices_replaced] = self.tokenizer.convert_tokens_to_ids(self.tokenizer.mask_token)\n",
        "\n",
        "        # 10% of masked → random token\n",
        "        indices_random = torch.bernoulli(torch.full(labels.shape, 0.5)).bool() & masked_indices & ~indices_replaced\n",
        "        random_words = torch.randint(len(self.tokenizer), labels.shape, dtype=torch.long)\n",
        "        token_ids[indices_random] = random_words[indices_random]\n",
        "\n",
        "        # Remaining 10% stay the same\n",
        "\n",
        "        return token_ids, labels\n",
        "\n",
        "    def __len__(self):\n",
        "        return len(self.tokenized_prompts)\n",
        "\n",
        "    def __getitem__(self, idx):\n",
        "        return self.tokenized_prompts[idx]\n"
      ],
      "metadata": {
        "id": "Fc3UZOh7m1x1"
      },
      "execution_count": null,
      "outputs": []
    },
    {
      "cell_type": "code",
      "source": [
        "ds = MLMPrompts(df, 128)"
      ],
      "metadata": {
        "id": "6xHuM7D8lVse"
      },
      "execution_count": 44,
      "outputs": []
    },
    {
      "cell_type": "code",
      "source": [
        "ds.__getitem__(5)"
      ],
      "metadata": {
        "colab": {
          "base_uri": "https://localhost:8080/"
        },
        "id": "NtkstIHMXf-8",
        "outputId": "abf9c38e-87ee-44ec-90d1-b9ec9cd04441"
      },
      "execution_count": 48,
      "outputs": [
        {
          "output_type": "execute_result",
          "data": {
            "text/plain": [
              "{'masked_ids': tensor([  101,  3376,  6652, 10000,  3617,  4169,  1010,  2396,  2011,  2396,\n",
              "           103,  2213,  1998,  6754, 21766,  2102, 15449,  1010,  2632,   103,\n",
              "          3366,  2172,  2050,  1010,   103,  5620, 10085,  2666,   103,   102,\n",
              "             0,     0,     0,     0,     0,     0,     0,     0,     0,     0,\n",
              "             0,     0,     0,     0,     0,     0,     0,     0,     0,     0,\n",
              "             0,     0,     0,     0,     0,     0,     0,     0,     0,     0,\n",
              "             0,     0,     0,     0,     0,     0,     0,     0,     0,     0,\n",
              "             0,     0,     0,     0,     0,     0,     0,     0,     0,     0,\n",
              "             0,     0,     0,     0,     0,     0,     0,     0,     0,     0,\n",
              "             0,     0,     0,     0,     0,     0,     0,     0,     0,     0,\n",
              "             0,     0,     0,     0,     0,     0,     0,     0,     0,     0,\n",
              "             0,     0,     0,     0,     0,     0,     0,     0,     0,     0,\n",
              "             0,     0,     0,     0,     0,     0,     0,     0]),\n",
              " 'target_ids': tensor([ -100,  -100,  -100,  -100,  -100,  -100,  -100,  -100,  -100,  -100,\n",
              "          4590,  -100,  -100,  -100,  -100,  -100,  -100,  -100,  -100, 20846,\n",
              "          -100,  -100,  -100,  -100,  1039,  -100,  -100,  -100,  3723,  -100,\n",
              "          -100,  -100,  -100,  -100,  -100,  -100,  -100,  -100,  -100,  -100,\n",
              "          -100,  -100,  -100,  -100,  -100,  -100,  -100,  -100,  -100,  -100,\n",
              "          -100,  -100,  -100,  -100,  -100,  -100,  -100,  -100,  -100,  -100,\n",
              "          -100,  -100,  -100,  -100,  -100,  -100,  -100,  -100,  -100,  -100,\n",
              "          -100,  -100,  -100,  -100,  -100,  -100,  -100,  -100,  -100,  -100,\n",
              "          -100,  -100,  -100,  -100,  -100,  -100,  -100,  -100,  -100,  -100,\n",
              "          -100,  -100,  -100,  -100,  -100,  -100,  -100,  -100,  -100,  -100,\n",
              "          -100,  -100,  -100,  -100,  -100,  -100,  -100,  -100,  -100,  -100,\n",
              "          -100,  -100,  -100,  -100,  -100,  -100,  -100,  -100,  -100,  -100,\n",
              "          -100,  -100,  -100,  -100,  -100,  -100,  -100,  -100]),\n",
              " 'attn_mask': tensor([1, 1, 1, 1, 1, 1, 1, 1, 1, 1, 1, 1, 1, 1, 1, 1, 1, 1, 1, 1, 1, 1, 1, 1,\n",
              "         1, 1, 1, 1, 1, 1, 0, 0, 0, 0, 0, 0, 0, 0, 0, 0, 0, 0, 0, 0, 0, 0, 0, 0,\n",
              "         0, 0, 0, 0, 0, 0, 0, 0, 0, 0, 0, 0, 0, 0, 0, 0, 0, 0, 0, 0, 0, 0, 0, 0,\n",
              "         0, 0, 0, 0, 0, 0, 0, 0, 0, 0, 0, 0, 0, 0, 0, 0, 0, 0, 0, 0, 0, 0, 0, 0,\n",
              "         0, 0, 0, 0, 0, 0, 0, 0, 0, 0, 0, 0, 0, 0, 0, 0, 0, 0, 0, 0, 0, 0, 0, 0,\n",
              "         0, 0, 0, 0, 0, 0, 0, 0])}"
            ]
          },
          "metadata": {},
          "execution_count": 48
        }
      ]
    },
    {
      "cell_type": "markdown",
      "source": [
        "## Initializing Dataloader"
      ],
      "metadata": {
        "id": "w-MFtk-8oRWh"
      }
    },
    {
      "cell_type": "code",
      "source": [
        "seq_len = 128\n",
        "stop_idx = 40_000\n",
        "\n",
        "batch_size = 16"
      ],
      "metadata": {
        "id": "D83V6FINo6o4"
      },
      "execution_count": 51,
      "outputs": []
    },
    {
      "cell_type": "code",
      "source": [
        "dataset = MLMPrompts(\n",
        "    df = df,\n",
        "    seq_len = seq_len,\n",
        "    stop_idx = stop_idx,\n",
        ")\n",
        "\n",
        "# 80-20 split\n",
        "train_size = int(0.8 * len(dataset))\n",
        "test_size = len(dataset) - train_size\n",
        "\n",
        "train_ds, test_ds = random_split(dataset, [train_size, test_size])\n",
        "\n",
        "train_loader = DataLoader(\n",
        "    dataset=train_ds,\n",
        "    batch_size = batch_size,\n",
        "    shuffle = True,\n",
        ")\n",
        "\n",
        "test_loader = DataLoader(\n",
        "    dataset = test_ds,\n",
        "    batch_size = batch_size,\n",
        "    shuffle = False,\n",
        ")"
      ],
      "metadata": {
        "id": "coYvHrm2oRKg"
      },
      "execution_count": 52,
      "outputs": []
    },
    {
      "cell_type": "code",
      "source": [
        "len(train_loader), len(test_loader)"
      ],
      "metadata": {
        "colab": {
          "base_uri": "https://localhost:8080/"
        },
        "id": "EiARf_G5oRHB",
        "outputId": "6634625b-4c0b-4a7d-9a2b-b789d612d71d"
      },
      "execution_count": 53,
      "outputs": [
        {
          "output_type": "execute_result",
          "data": {
            "text/plain": [
              "(2000, 500)"
            ]
          },
          "metadata": {},
          "execution_count": 53
        }
      ]
    },
    {
      "cell_type": "code",
      "source": [
        "2000*16 + 500*16\n"
      ],
      "metadata": {
        "colab": {
          "base_uri": "https://localhost:8080/"
        },
        "id": "j9cLL0VdoREj",
        "outputId": "a4b0a9e3-f109-41cd-fce7-ba9e2885a08a"
      },
      "execution_count": 55,
      "outputs": [
        {
          "output_type": "execute_result",
          "data": {
            "text/plain": [
              "40000"
            ]
          },
          "metadata": {},
          "execution_count": 55
        }
      ]
    },
    {
      "cell_type": "code",
      "source": [
        "next(iter(train_loader))['masked_ids'].shape"
      ],
      "metadata": {
        "colab": {
          "base_uri": "https://localhost:8080/"
        },
        "id": "geRFfNxLoRCD",
        "outputId": "963629a8-387e-403d-ed94-72fae4db9829"
      },
      "execution_count": 59,
      "outputs": [
        {
          "output_type": "execute_result",
          "data": {
            "text/plain": [
              "torch.Size([16, 128])"
            ]
          },
          "metadata": {},
          "execution_count": 59
        }
      ]
    },
    {
      "cell_type": "code",
      "source": [],
      "metadata": {
        "id": "xJryQUkhoQ_W"
      },
      "execution_count": null,
      "outputs": []
    },
    {
      "cell_type": "code",
      "source": [],
      "metadata": {
        "id": "0LJ_TExGoQ8q"
      },
      "execution_count": null,
      "outputs": []
    },
    {
      "cell_type": "code",
      "source": [],
      "metadata": {
        "id": "vBk9fXpHoQ6E"
      },
      "execution_count": null,
      "outputs": []
    },
    {
      "cell_type": "code",
      "source": [],
      "metadata": {
        "id": "TSkj9H8LoQ3Y"
      },
      "execution_count": null,
      "outputs": []
    },
    {
      "cell_type": "code",
      "source": [],
      "metadata": {
        "id": "dH58KQf-oQ0y"
      },
      "execution_count": null,
      "outputs": []
    },
    {
      "cell_type": "code",
      "source": [],
      "metadata": {
        "id": "1jJa2s8QoQyR"
      },
      "execution_count": null,
      "outputs": []
    },
    {
      "cell_type": "code",
      "source": [],
      "metadata": {
        "id": "TUjbJFHCoQvs"
      },
      "execution_count": null,
      "outputs": []
    },
    {
      "cell_type": "code",
      "source": [],
      "metadata": {
        "id": "sF6LK2nUoQtF"
      },
      "execution_count": null,
      "outputs": []
    },
    {
      "cell_type": "code",
      "source": [],
      "metadata": {
        "id": "hEo0KdcwoQqn"
      },
      "execution_count": null,
      "outputs": []
    },
    {
      "cell_type": "code",
      "source": [],
      "metadata": {
        "id": "SmFs531XoQoN"
      },
      "execution_count": null,
      "outputs": []
    },
    {
      "cell_type": "code",
      "source": [],
      "metadata": {
        "id": "KD0kc3PjoQl1"
      },
      "execution_count": null,
      "outputs": []
    },
    {
      "cell_type": "code",
      "source": [],
      "metadata": {
        "id": "TSirkIjXoQjd"
      },
      "execution_count": null,
      "outputs": []
    },
    {
      "cell_type": "code",
      "source": [],
      "metadata": {
        "id": "8HzNV01aoQg9"
      },
      "execution_count": null,
      "outputs": []
    },
    {
      "cell_type": "code",
      "source": [],
      "metadata": {
        "id": "E9gHYCIZoQez"
      },
      "execution_count": null,
      "outputs": []
    },
    {
      "cell_type": "code",
      "source": [
        "lengths = [len(tokenizer.encode(t)) for t in df['Prompt'][:30_000]]\n",
        "import numpy as np\n",
        "np.percentile(lengths, [50, 75, 90, 95, 99])\n"
      ],
      "metadata": {
        "colab": {
          "base_uri": "https://localhost:8080/"
        },
        "id": "mKLZLOBzYR27",
        "outputId": "02b62d15-e4ca-4ce2-829e-652ab0b4ad41"
      },
      "execution_count": 31,
      "outputs": [
        {
          "output_type": "execute_result",
          "data": {
            "text/plain": [
              "array([ 61.,  76.,  87., 100., 138.])"
            ]
          },
          "metadata": {},
          "execution_count": 31
        }
      ]
    },
    {
      "cell_type": "code",
      "source": [
        "tokenizer = BertTokenizer.from_pretrained(\"bert-base-uncased\")"
      ],
      "metadata": {
        "id": "BD6kwOh5-vGs"
      },
      "execution_count": 38,
      "outputs": []
    },
    {
      "cell_type": "code",
      "source": [
        "tokens = tokenzier.tokenize(text)"
      ],
      "metadata": {
        "id": "UnVHDQHI-vET"
      },
      "execution_count": 15,
      "outputs": []
    },
    {
      "cell_type": "code",
      "source": [
        "len(tokens)"
      ],
      "metadata": {
        "colab": {
          "base_uri": "https://localhost:8080/"
        },
        "id": "DTONaUYxS0v6",
        "outputId": "ff45572a-4821-42e2-d632-8910a0b71f51"
      },
      "execution_count": 17,
      "outputs": [
        {
          "output_type": "execute_result",
          "data": {
            "text/plain": [
              "104"
            ]
          },
          "metadata": {},
          "execution_count": 17
        }
      ]
    },
    {
      "cell_type": "code",
      "source": [
        "token_ids = tokenzier.convert_tokens_to_ids(tokens)\n",
        "token_ids"
      ],
      "metadata": {
        "colab": {
          "base_uri": "https://localhost:8080/"
        },
        "collapsed": true,
        "id": "wLW61Jr9-vCE",
        "outputId": "6e873b5f-8927-494d-dcc0-071e671ec1e5"
      },
      "execution_count": 12,
      "outputs": [
        {
          "output_type": "execute_result",
          "data": {
            "text/plain": [
              "[3793]"
            ]
          },
          "metadata": {},
          "execution_count": 12
        }
      ]
    },
    {
      "cell_type": "code",
      "source": [
        "sentence = 'At future I want to qualify GATE DA 2026 and in long term I want to get in Amazon or Microsoft as applied scientict or principle scientist'"
      ],
      "metadata": {
        "id": "OFMnO_kbDWcE"
      },
      "execution_count": null,
      "outputs": []
    },
    {
      "cell_type": "code",
      "source": [
        "encodings = tokenzier(\n",
        "    df[\"Prompt\"].tolist()[:30_000],\n",
        "    truncation=True,\n",
        "    padding=True,\n",
        "    max_length=64,\n",
        "    return_tensors=\"pt\"\n",
        ")\n"
      ],
      "metadata": {
        "id": "xr8ZC-y3DDvO"
      },
      "execution_count": null,
      "outputs": []
    },
    {
      "cell_type": "code",
      "source": [
        "encodings.token_type_ids.shape"
      ],
      "metadata": {
        "colab": {
          "base_uri": "https://localhost:8080/"
        },
        "id": "41UbOHvsDZfw",
        "outputId": "02395d6f-d648-4c9b-d0d7-b36320052272"
      },
      "execution_count": null,
      "outputs": [
        {
          "output_type": "execute_result",
          "data": {
            "text/plain": [
              "torch.Size([30000, 64])"
            ]
          },
          "metadata": {},
          "execution_count": 62
        }
      ]
    },
    {
      "cell_type": "code",
      "source": [],
      "metadata": {
        "id": "bi40vAXQEs_J"
      },
      "execution_count": null,
      "outputs": []
    }
  ]
}